{
 "cells": [
  {
   "cell_type": "code",
   "execution_count": 6,
   "id": "2bb723e2",
   "metadata": {},
   "outputs": [],
   "source": [
    "import sys\n",
    "import os\n",
    "\n",
    "# Obtener la ruta absoluta del directorio raiz del proyecto\n",
    "sys.path.append(os.path.abspath(\"../src\"))"
   ]
  },
  {
   "cell_type": "code",
   "execution_count": 7,
   "id": "c126bfd6-a14b-434d-be33-ecc2c924590f",
   "metadata": {},
   "outputs": [
    {
     "name": "stdout",
     "output_type": "stream",
     "text": [
      "[{'name': 'Ana torres', 'age': 28, 'gmail': 'ana.torres@gmail.com', 'country': 'Argentina'}, {'name': 'Lucas pérez', 'age': 34, 'gmail': None, 'country': 'Resto del mundo'}, {'name': 'Sofía gómez', 'age': None, 'gmail': 'sofia.gomez@gmail.com', 'country': 'Resto del mundo'}, {'name': 'Martín silva', 'age': None, 'gmail': None, 'country': 'Resto del mundo'}, {'name': None, 'age': 25, 'gmail': None, 'country': 'Chile'}, {'name': 'Diego ramírez', 'age': 40, 'gmail': 'diego.ramirez@gmail.com', 'country': 'Resto del mundo'}]\n"
     ]
    }
   ],
   "source": [
    "from cleaner import clean_data\n",
    "\n",
    "dataset = [\n",
    "    {\n",
    "        \"name\": \"Ana Torres      \", \n",
    "        \"age\": \"28\", \n",
    "        \"gmail\": \"ana.torres@gmail.com\", \n",
    "        \"country\": \"Argentina\"\n",
    "    },\n",
    "    {\n",
    "        \"name\": \"Lucas Pérez\", \n",
    "        \"age\": \"34\",\n",
    "        \"gmail\": \"lucas.perezgmail.com\", \n",
    "        \"country\": \"España\"\n",
    "    },\n",
    "    {\n",
    "        \"name\": \"Sofía Gómez\", \n",
    "        \"age\": \"cuarenta\", \n",
    "        \"gmail\": \"sofia.gomez@gmail.com\", \n",
    "        \"country\": \"México\"\n",
    "    },\n",
    "    {\n",
    "        \"name\": \"Martín Silva\", \n",
    "        \"age\": \"N/A\", \n",
    "        \"gmail\": \"martin.sil\", \n",
    "        \"country\": \"Uruguay\"\n",
    "    },\n",
    "    {\n",
    "        \"name\": None, \n",
    "        \"age\": \"25\", \n",
    "        \"gmail\": None, \n",
    "        \"country\": \"Chile\"\n",
    "    },\n",
    "    {\n",
    "        \"name\": \"Diego Ramírez\", \n",
    "        \"age\": \"40\", \n",
    "        \"gmail\": \"diego.ramirez@gmail.com\", \n",
    "        \"country\": \"Colombia\"\n",
    "    },\n",
    "]\n",
    "\n",
    "print(clean_data(dataset))\n"
   ]
  }
 ],
 "metadata": {
  "kernelspec": {
   "display_name": "venv",
   "language": "python",
   "name": "python3"
  },
  "language_info": {
   "codemirror_mode": {
    "name": "ipython",
    "version": 3
   },
   "file_extension": ".py",
   "mimetype": "text/x-python",
   "name": "python",
   "nbconvert_exporter": "python",
   "pygments_lexer": "ipython3",
   "version": "3.12.9"
  }
 },
 "nbformat": 4,
 "nbformat_minor": 5
}
